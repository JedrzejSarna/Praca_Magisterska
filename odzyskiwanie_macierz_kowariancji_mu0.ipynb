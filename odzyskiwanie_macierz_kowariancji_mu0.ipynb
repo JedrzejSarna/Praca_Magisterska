{
 "cells": [
  {
   "cell_type": "code",
   "execution_count": 5,
   "metadata": {},
   "outputs": [],
   "source": [
    "import numpy as np\n",
    "import matplotlib.pyplot as plt\n",
    "from scipy.optimize import linprog\n",
    "import os\n",
    "\n",
    "# Adjust rc parameters to use LaTeX and Computer Modern font\n",
    "plt.rcParams.update({\n",
    "    \"text.usetex\": True,\n",
    "    \"font.family\": \"serif\",\n",
    "    \"font.serif\": [\"Computer Modern Roman\"],\n",
    "    \"text.latex.preamble\": r\"\\usepackage[utf8]{inputenc}\\usepackage[T1]{fontenc}\\usepackage{lmodern}\"\n",
    "})\n",
    "### Definiujemy stopien rzadkosci jako 10% wektora regresji\n",
    "# Parametry\n",
    "d_wartosci = [128, 256, 512]\n",
    "liczba_prob = 100\n",
    "mu = 0\n",
    "s = lambda d: int(0.1 * d)"
   ]
  },
  {
   "cell_type": "code",
   "execution_count": 6,
   "metadata": {},
   "outputs": [],
   "source": [
    "def generuj_macierz_kowariancji(d, mu):\n",
    "    \"\"\"\n",
    "    Tworzy macierz kowariancji Σ = (1 - μ)I + μ 1 1^T dla danego d i μ.\n",
    "    \"\"\"\n",
    "    I = np.eye(d)  # Macierz jednostkowa (d x d)\n",
    "    J = np.ones((d, d))  # Macierz wypełniona jedynkami (d x d)\n",
    "    return (1 - mu) * I + mu * J\n",
    "\n",
    "def generuj_losowa_macierz(d, n, mu):\n",
    "    \"\"\"\n",
    "    Generuje macierz X o wymiarach (n, d), gdzie każdy wiersz jest losowany\n",
    "    z wielowymiarowego rozkładu normalnego N(0, Σ), z Σ = (1 - μ)I + μ 1 1^T.\n",
    "    \"\"\"\n",
    "    Sigma = generuj_macierz_kowariancji(d, mu)  # Macierz kowariancji\n",
    "    X = np.random.multivariate_normal(np.zeros(d), Sigma, size=n)  # Generowanie wierszy\n",
    "    return X\n",
    "\n",
    "# Generowanie rzadkiego sygnału o d wymiarach i s niezerowych elementach\n",
    "def rzadki_sygnal(d, s):\n",
    "    theta = np.zeros(d)\n",
    "    niezerowe_indeksy = np.random.choice(d, s, replace=False)\n",
    "    theta[niezerowe_indeksy] = np.random.randn(s)\n",
    "    return theta\n",
    "\n",
    "# Rozwiązywanie problemu Basis Pursuit (BP) metodą programowania liniowego\n",
    "def basis_pursuit(X, y):\n",
    "    d = X.shape[1]  # Liczba kolumn macierzy X (wymiar przestrzeni sygnału)\n",
    "    c = np.ones(2 * d)  # Wektor celu (minimalizacja sumy modułów zmiennych)\n",
    "    \n",
    "    # Tworzenie macierzy ograniczeń równościowych\n",
    "    X_eq = np.hstack((X, -X))\n",
    "    y_eq = y\n",
    "    \n",
    "    # Ograniczenia dla zmiennych (muszą być nieujemne)\n",
    "    ograniczenia = [(0, None) for _ in range(2 * d)]\n",
    "    \n",
    "    # Rozwiązywanie problemu programowania liniowego\n",
    "    res = linprog(c, A_eq=X_eq, b_eq=y_eq, bounds=ograniczenia, method='highs')\n",
    "    \n",
    "    # Odtworzenie sygnału jako różnicy zmiennych pomocniczych\n",
    "    theta_odtworzony = res.x[:d] - res.x[d:]\n",
    "    return theta_odtworzony\n",
    "\n",
    "# Przeprowadzanie eksperymentu sprawdzającego skuteczność odzyskiwania sygnału\n",
    "def wykonaj_eksperyment(d, s, n, mu):\n",
    "    X = generuj_losowa_macierz(d, n, mu)  # Generowanie losowej macierzy\n",
    "    theta = rzadki_sygnal(d, s)  # Generowanie rzadkiego sygnału\n",
    "    y = X @ theta  # Obliczenie obserwacji\n",
    "    theta_odtworzony = basis_pursuit(X, y)  # Próba odzyskania sygnału\n",
    "    \n",
    "    # Sprawdzenie, czy odtworzony sygnał jest bliski oryginalnemu (metryka błędu)\n",
    "    sukces = np.linalg.norm(theta - theta_odtworzony) < 1e-3\n",
    "    return sukces\n",
    "\n",
    "# Obliczanie prawdopodobieństwa poprawnego odzyskania sygnału dla różnych n\n",
    "def prawdopodobienstwo_odzyskania(d, s, n_wartosci, mu, liczba_prob):\n",
    "    prawdopodobienstwa = []\n",
    "    for n in n_wartosci:\n",
    "        sukcesy = [wykonaj_eksperyment(d, s, n, mu) for _ in range(liczba_prob)]\n",
    "        prawdopodobienstwa.append(np.mean(sukcesy))  # Średnia liczba sukcesów\n",
    "    return prawdopodobienstwa"
   ]
  },
  {
   "cell_type": "code",
   "execution_count": 7,
   "metadata": {},
   "outputs": [
    {
     "ename": "KeyboardInterrupt",
     "evalue": "",
     "output_type": "error",
     "traceback": [
      "\u001b[0;31m---------------------------------------------------------------------------\u001b[0m",
      "\u001b[0;31mKeyboardInterrupt\u001b[0m                         Traceback (most recent call last)",
      "Cell \u001b[0;32mIn[7], line 8\u001b[0m\n\u001b[1;32m      5\u001b[0m przeskalowane_n_wartosci \u001b[38;5;241m=\u001b[39m {d: n_wartosci \u001b[38;5;241m/\u001b[39m (s(d) \u001b[38;5;241m*\u001b[39m np\u001b[38;5;241m.\u001b[39mlog(d \u001b[38;5;241m/\u001b[39m s(d))) \u001b[38;5;28;01mfor\u001b[39;00m d \u001b[38;5;129;01min\u001b[39;00m d_wartosci}\n\u001b[1;32m      7\u001b[0m \u001b[38;5;66;03m# Obliczenie prawdopodobieństwa poprawnego odzyskania sygnału\u001b[39;00m\n\u001b[0;32m----> 8\u001b[0m prawdopodobienstwa \u001b[38;5;241m=\u001b[39m {d: \u001b[43mprawdopodobienstwo_odzyskania\u001b[49m\u001b[43m(\u001b[49m\u001b[43md\u001b[49m\u001b[43m,\u001b[49m\u001b[43m \u001b[49m\u001b[43ms\u001b[49m\u001b[43m(\u001b[49m\u001b[43md\u001b[49m\u001b[43m)\u001b[49m\u001b[43m,\u001b[49m\u001b[43m \u001b[49m\u001b[43mn_wartosci\u001b[49m\u001b[43m,\u001b[49m\u001b[43m \u001b[49m\u001b[43mmu\u001b[49m\u001b[43m,\u001b[49m\u001b[43m \u001b[49m\u001b[43mliczba_prob\u001b[49m\u001b[43m)\u001b[49m \u001b[38;5;28;01mfor\u001b[39;00m d \u001b[38;5;129;01min\u001b[39;00m d_wartosci}\n\u001b[1;32m     10\u001b[0m \u001b[38;5;66;03m# Tworzenie wykresów\u001b[39;00m\n\u001b[1;32m     11\u001b[0m fig, osie \u001b[38;5;241m=\u001b[39m plt\u001b[38;5;241m.\u001b[39msubplots(\u001b[38;5;241m1\u001b[39m, \u001b[38;5;241m2\u001b[39m, figsize\u001b[38;5;241m=\u001b[39m(\u001b[38;5;241m12\u001b[39m, \u001b[38;5;241m6\u001b[39m))\n",
      "Cell \u001b[0;32mIn[6], line 59\u001b[0m, in \u001b[0;36mprawdopodobienstwo_odzyskania\u001b[0;34m(d, s, n_wartosci, mu, liczba_prob)\u001b[0m\n\u001b[1;32m     57\u001b[0m prawdopodobienstwa \u001b[38;5;241m=\u001b[39m []\n\u001b[1;32m     58\u001b[0m \u001b[38;5;28;01mfor\u001b[39;00m n \u001b[38;5;129;01min\u001b[39;00m n_wartosci:\n\u001b[0;32m---> 59\u001b[0m     sukcesy \u001b[38;5;241m=\u001b[39m [\u001b[43mwykonaj_eksperyment\u001b[49m\u001b[43m(\u001b[49m\u001b[43md\u001b[49m\u001b[43m,\u001b[49m\u001b[43m \u001b[49m\u001b[43ms\u001b[49m\u001b[43m,\u001b[49m\u001b[43m \u001b[49m\u001b[43mn\u001b[49m\u001b[43m,\u001b[49m\u001b[43m \u001b[49m\u001b[43mmu\u001b[49m\u001b[43m)\u001b[49m \u001b[38;5;28;01mfor\u001b[39;00m _ \u001b[38;5;129;01min\u001b[39;00m \u001b[38;5;28mrange\u001b[39m(liczba_prob)]\n\u001b[1;32m     60\u001b[0m     prawdopodobienstwa\u001b[38;5;241m.\u001b[39mappend(np\u001b[38;5;241m.\u001b[39mmean(sukcesy))  \u001b[38;5;66;03m# Średnia liczba sukcesów\u001b[39;00m\n\u001b[1;32m     61\u001b[0m \u001b[38;5;28;01mreturn\u001b[39;00m prawdopodobienstwa\n",
      "Cell \u001b[0;32mIn[6], line 46\u001b[0m, in \u001b[0;36mwykonaj_eksperyment\u001b[0;34m(d, s, n, mu)\u001b[0m\n\u001b[1;32m     45\u001b[0m \u001b[38;5;28;01mdef\u001b[39;00m \u001b[38;5;21mwykonaj_eksperyment\u001b[39m(d, s, n, mu):\n\u001b[0;32m---> 46\u001b[0m     X \u001b[38;5;241m=\u001b[39m \u001b[43mgeneruj_losowa_macierz\u001b[49m\u001b[43m(\u001b[49m\u001b[43md\u001b[49m\u001b[43m,\u001b[49m\u001b[43m \u001b[49m\u001b[43mn\u001b[49m\u001b[43m,\u001b[49m\u001b[43m \u001b[49m\u001b[43mmu\u001b[49m\u001b[43m)\u001b[49m  \u001b[38;5;66;03m# Generowanie losowej macierzy\u001b[39;00m\n\u001b[1;32m     47\u001b[0m     theta \u001b[38;5;241m=\u001b[39m rzadki_sygnal(d, s)  \u001b[38;5;66;03m# Generowanie rzadkiego sygnału\u001b[39;00m\n\u001b[1;32m     48\u001b[0m     y \u001b[38;5;241m=\u001b[39m X \u001b[38;5;241m@\u001b[39m theta  \u001b[38;5;66;03m# Obliczenie obserwacji\u001b[39;00m\n",
      "Cell \u001b[0;32mIn[6], line 15\u001b[0m, in \u001b[0;36mgeneruj_losowa_macierz\u001b[0;34m(d, n, mu)\u001b[0m\n\u001b[1;32m     10\u001b[0m \u001b[38;5;250m\u001b[39m\u001b[38;5;124;03m\"\"\"\u001b[39;00m\n\u001b[1;32m     11\u001b[0m \u001b[38;5;124;03mGeneruje macierz X o wymiarach (n, d), gdzie każdy wiersz jest losowany\u001b[39;00m\n\u001b[1;32m     12\u001b[0m \u001b[38;5;124;03mz wielowymiarowego rozkładu normalnego N(0, Σ), z Σ = (1 - μ)I + μ 1 1^T.\u001b[39;00m\n\u001b[1;32m     13\u001b[0m \u001b[38;5;124;03m\"\"\"\u001b[39;00m\n\u001b[1;32m     14\u001b[0m Sigma \u001b[38;5;241m=\u001b[39m generuj_macierz_kowariancji(d, mu)  \u001b[38;5;66;03m# Macierz kowariancji\u001b[39;00m\n\u001b[0;32m---> 15\u001b[0m X \u001b[38;5;241m=\u001b[39m \u001b[43mnp\u001b[49m\u001b[38;5;241;43m.\u001b[39;49m\u001b[43mrandom\u001b[49m\u001b[38;5;241;43m.\u001b[39;49m\u001b[43mmultivariate_normal\u001b[49m\u001b[43m(\u001b[49m\u001b[43mnp\u001b[49m\u001b[38;5;241;43m.\u001b[39;49m\u001b[43mzeros\u001b[49m\u001b[43m(\u001b[49m\u001b[43md\u001b[49m\u001b[43m)\u001b[49m\u001b[43m,\u001b[49m\u001b[43m \u001b[49m\u001b[43mSigma\u001b[49m\u001b[43m,\u001b[49m\u001b[43m \u001b[49m\u001b[43msize\u001b[49m\u001b[38;5;241;43m=\u001b[39;49m\u001b[43mn\u001b[49m\u001b[43m)\u001b[49m  \u001b[38;5;66;03m# Generowanie wierszy\u001b[39;00m\n\u001b[1;32m     16\u001b[0m \u001b[38;5;28;01mreturn\u001b[39;00m X\n",
      "File \u001b[0;32mnumpy/random/mtrand.pyx:4261\u001b[0m, in \u001b[0;36mnumpy.random.mtrand.RandomState.multivariate_normal\u001b[0;34m()\u001b[0m\n",
      "File \u001b[0;32m/opt/anaconda3/envs/VIRT_ENV/lib/python3.13/site-packages/numpy/linalg/_linalg.py:1839\u001b[0m, in \u001b[0;36msvd\u001b[0;34m(a, full_matrices, compute_uv, hermitian)\u001b[0m\n\u001b[1;32m   1835\u001b[0m signature \u001b[38;5;241m=\u001b[39m \u001b[38;5;124m'\u001b[39m\u001b[38;5;124mD->DdD\u001b[39m\u001b[38;5;124m'\u001b[39m \u001b[38;5;28;01mif\u001b[39;00m isComplexType(t) \u001b[38;5;28;01melse\u001b[39;00m \u001b[38;5;124m'\u001b[39m\u001b[38;5;124md->ddd\u001b[39m\u001b[38;5;124m'\u001b[39m\n\u001b[1;32m   1836\u001b[0m \u001b[38;5;28;01mwith\u001b[39;00m errstate(call\u001b[38;5;241m=\u001b[39m_raise_linalgerror_svd_nonconvergence,\n\u001b[1;32m   1837\u001b[0m               invalid\u001b[38;5;241m=\u001b[39m\u001b[38;5;124m'\u001b[39m\u001b[38;5;124mcall\u001b[39m\u001b[38;5;124m'\u001b[39m, over\u001b[38;5;241m=\u001b[39m\u001b[38;5;124m'\u001b[39m\u001b[38;5;124mignore\u001b[39m\u001b[38;5;124m'\u001b[39m, divide\u001b[38;5;241m=\u001b[39m\u001b[38;5;124m'\u001b[39m\u001b[38;5;124mignore\u001b[39m\u001b[38;5;124m'\u001b[39m,\n\u001b[1;32m   1838\u001b[0m               under\u001b[38;5;241m=\u001b[39m\u001b[38;5;124m'\u001b[39m\u001b[38;5;124mignore\u001b[39m\u001b[38;5;124m'\u001b[39m):\n\u001b[0;32m-> 1839\u001b[0m     u, s, vh \u001b[38;5;241m=\u001b[39m \u001b[43mgufunc\u001b[49m\u001b[43m(\u001b[49m\u001b[43ma\u001b[49m\u001b[43m,\u001b[49m\u001b[43m \u001b[49m\u001b[43msignature\u001b[49m\u001b[38;5;241;43m=\u001b[39;49m\u001b[43msignature\u001b[49m\u001b[43m)\u001b[49m\n\u001b[1;32m   1840\u001b[0m u \u001b[38;5;241m=\u001b[39m u\u001b[38;5;241m.\u001b[39mastype(result_t, copy\u001b[38;5;241m=\u001b[39m\u001b[38;5;28;01mFalse\u001b[39;00m)\n\u001b[1;32m   1841\u001b[0m s \u001b[38;5;241m=\u001b[39m s\u001b[38;5;241m.\u001b[39mastype(_realType(result_t), copy\u001b[38;5;241m=\u001b[39m\u001b[38;5;28;01mFalse\u001b[39;00m)\n",
      "\u001b[0;31mKeyboardInterrupt\u001b[0m: "
     ]
    }
   ],
   "source": [
    "# Generowanie wartości n w zakresie od 10 do 200 z krokiem 10\n",
    "n_wartosci = np.arange(10, 201, 10)\n",
    "\n",
    "# Przeskalowanie wartości n dla różnych d\n",
    "przeskalowane_n_wartosci = {d: n_wartosci / (s(d) * np.log(d / s(d))) for d in d_wartosci}\n",
    "\n",
    "# Obliczenie prawdopodobieństwa poprawnego odzyskania sygnału\n",
    "prawdopodobienstwa = {d: prawdopodobienstwo_odzyskania(d, s(d), n_wartosci, mu, liczba_prob) for d in d_wartosci}\n",
    "\n",
    "# Tworzenie wykresów\n",
    "fig, osie = plt.subplots(1, 2, figsize=(12, 6))\n",
    "\n",
    "# Wykres (a): Prawdopodobieństwo odzyskania vs. rozmiar próby\n",
    "for d in d_wartosci:\n",
    "    osie[0].plot(n_wartosci, prawdopodobienstwa[d], label=fr'$d = {d}$', marker='o')\n",
    "osie[0].set_xlabel(r'Wielkość próby', fontsize=16)\n",
    "osie[0].set_ylabel(r'Prawdopodobieństwo poprawnego odzyskania', fontsize=16)\n",
    "osie[0].tick_params(axis='both', labelsize=12)  # <-- Zwiększenie wielkości liczb na osiach\n",
    "osie[0].legend(fontsize=12)\n",
    "\n",
    "# Wykres (b): Prawdopodobieństwo odzyskania vs. przeskalowany rozmiar próby\n",
    "for d in d_wartosci:\n",
    "    osie[1].plot(przeskalowane_n_wartosci[d], prawdopodobienstwa[d], label=fr'$d = {d}$', marker='o')\n",
    "osie[1].set_xlabel(r'Przeskalowana wielkość próby', fontsize=16)\n",
    "osie[1].set_ylabel(r'Prawdopodobieństwo sukcesu relaksacji', fontsize=16)\n",
    "osie[1].tick_params(axis='both', labelsize=12)  # <-- Zwiększenie wielkości liczb na osiach\n",
    "osie[1].legend(fontsize=12)\n",
    "\n",
    "\n",
    "plt.tight_layout()\n",
    "plt.show()"
   ]
  },
  {
   "cell_type": "code",
   "execution_count": null,
   "metadata": {},
   "outputs": [],
   "source": [
    "os.makedirs(\"zdjecia_symulacji\", exist_ok=True)"
   ]
  },
  {
   "cell_type": "code",
   "execution_count": null,
   "metadata": {},
   "outputs": [],
   "source": [
    "fig.savefig(\"zdjecia_symulacji/sukces_relaksacji_symulacja_mu0.svg\", format=\"svg\", bbox_inches=\"tight\", pad_inches=0.1)"
   ]
  }
 ],
 "metadata": {
  "kernelspec": {
   "display_name": "VIRT_ENV",
   "language": "python",
   "name": "python3"
  },
  "language_info": {
   "codemirror_mode": {
    "name": "ipython",
    "version": 3
   },
   "file_extension": ".py",
   "mimetype": "text/x-python",
   "name": "python",
   "nbconvert_exporter": "python",
   "pygments_lexer": "ipython3",
   "version": "3.13.1"
  }
 },
 "nbformat": 4,
 "nbformat_minor": 2
}

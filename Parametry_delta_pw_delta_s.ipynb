{
 "cells": [
  {
   "cell_type": "code",
   "execution_count": 1,
   "metadata": {},
   "outputs": [],
   "source": [
    "import numpy as np\n",
    "from itertools import combinations\n"
   ]
  },
  {
   "cell_type": "markdown",
   "metadata": {},
   "source": [
    "### Zaczynamy od Macierzy X, którą standaryzujemy"
   ]
  },
  {
   "cell_type": "code",
   "execution_count": 2,
   "metadata": {},
   "outputs": [
    {
     "name": "stdout",
     "output_type": "stream",
     "text": [
      "Średnia zestandaryzowanych kolumn: [ 1.52655666e-16  2.98372438e-16 -3.88578059e-16  5.55111512e-17\n",
      " -1.11022302e-16  5.55111512e-17]\n",
      "Wariancja zestandaryzowanych kolumn: [1. 1. 1. 1. 1. 1.]\n",
      "Normy L2 kolumn: [2. 2. 2. 2. 2. 2.]\n",
      "Pierwiastek kwadratowy z liczby obserwacji: 2.0\n"
     ]
    }
   ],
   "source": [
    "# Tworzymy losową macierz X (przykład)\n",
    "macierz_X = np.random.rand(4, 6)  # 3 obserwacje, 4 predyktory\n",
    "\n",
    "# Obliczamy średnią dla każdej kolumny\n",
    "srednie_kolumn = np.mean(macierz_X, axis=0)\n",
    "\n",
    "# Obliczamy wariancję dla każdej kolumny (przy użyciu N, a nie N-1)\n",
    "wariancje_kolumn = np.mean((macierz_X - srednie_kolumn)**2, axis=0)\n",
    "\n",
    "# Standaryzujemy kolumny\n",
    "macierz_X_zestandaryzowana = (macierz_X - srednie_kolumn) / np.sqrt(wariancje_kolumn)\n",
    "\n",
    "# Weryfikujemy wyniki\n",
    "srednie_zestandaryzowanych_kolumn = np.mean(macierz_X_zestandaryzowana, axis=0)  # Średnia zestandaryzowanych kolumn\n",
    "wariancje_zestandaryzowanych_kolumn = np.mean(macierz_X_zestandaryzowana**2, axis=0)  # Wariancja zestandaryzowanych kolumn\n",
    "\n",
    "print(\"Średnia zestandaryzowanych kolumn:\", srednie_zestandaryzowanych_kolumn)\n",
    "print(\"Wariancja zestandaryzowanych kolumn:\", wariancje_zestandaryzowanych_kolumn)\n",
    "print(\"Normy L2 kolumn:\", np.linalg.norm(macierz_X_zestandaryzowana, ord=2, axis=0))  # Norma L2 kolumn\n",
    "print(\"Pierwiastek kwadratowy z liczby obserwacji:\", np.sqrt(macierz_X.shape[0]))  # Pierwiastek z liczby obserwacji"
   ]
  },
  {
   "cell_type": "code",
   "execution_count": 3,
   "metadata": {},
   "outputs": [],
   "source": [
    "def parametr_niespojnosci_parami(X):\n",
    "    liczba_wierszy, liczba_kolumn = X.shape  # X to macierz o wymiarach (n, d): n wierszy i d kolumn\n",
    "    maksymalna_wartosc = float('-inf')\n",
    "    for kolumna_j in range(liczba_kolumn):\n",
    "        for kolumna_k in range(liczba_kolumn):\n",
    "            # Obliczamy iloczyn skalarny kolumn j i k\n",
    "            iloczyn_skalarny = abs(np.dot(X[:, kolumna_j], X[:, kolumna_k])) / liczba_wierszy\n",
    "            if kolumna_j == kolumna_k:\n",
    "                iloczyn_skalarny -= 1  # Odejmujemy 1, jeśli porównujemy ten sam wektor ze sobą\n",
    "            \n",
    "            # Aktualizujemy maksymalną wartość o wartość bezwzględną bieżącego obliczenia\n",
    "            maksymalna_wartosc = max(maksymalna_wartosc, abs(iloczyn_skalarny))\n",
    "    return maksymalna_wartosc"
   ]
  },
  {
   "cell_type": "code",
   "execution_count": 4,
   "metadata": {},
   "outputs": [],
   "source": [
    "delta_pw = parametr_niespojnosci_parami(macierz_X_zestandaryzowana)"
   ]
  },
  {
   "cell_type": "code",
   "execution_count": 5,
   "metadata": {},
   "outputs": [
    {
     "data": {
      "text/plain": [
       "np.float64(0.784515227381398)"
      ]
     },
     "execution_count": 5,
     "metadata": {},
     "output_type": "execute_result"
    }
   ],
   "source": [
    "delta_pw"
   ]
  },
  {
   "cell_type": "code",
   "execution_count": 6,
   "metadata": {},
   "outputs": [
    {
     "data": {
      "text/plain": [
       "np.float64(0.1749454466137718)"
      ]
     },
     "execution_count": 6,
     "metadata": {},
     "output_type": "execute_result"
    }
   ],
   "source": [
    "n, d = 800,900  # n < d\n",
    "X = np.random.randn(n, d)  # Macierz losowa o niezależnych kolumnach\n",
    "#standaryzujemy kolumny\n",
    "X = (X - np.mean(X, axis=0)) / np.std(X, axis=0)\n",
    "\n",
    "# obliczamy delta_pw dla macierzy X\n",
    "delta_pw = parametr_niespojnosci_parami(X)\n",
    "delta_pw"
   ]
  },
  {
   "cell_type": "code",
   "execution_count": 7,
   "metadata": {},
   "outputs": [
    {
     "data": {
      "text/plain": [
       "np.float64(0.7851762713724241)"
      ]
     },
     "execution_count": 7,
     "metadata": {},
     "output_type": "execute_result"
    }
   ],
   "source": [
    "n, d = 8,9  # n < d\n",
    "X = np.random.randn(n, d)  # Macierz losowa o niezależnych kolumnach\n",
    "#standaryzujemy kolumny\n",
    "X = (X - np.mean(X, axis=0)) / np.std(X, axis=0)\n",
    "\n",
    "# obliczamy delta_pw dla macierzy X\n",
    "delta_pw = parametr_niespojnosci_parami(X)\n",
    "delta_pw"
   ]
  },
  {
   "cell_type": "code",
   "execution_count": 10,
   "metadata": {},
   "outputs": [],
   "source": [
    "def parametr_ograniczonej_izometrii(X, s):\n",
    "    \"\"\"\n",
    "    Sprawdza, czy macierz X spełnia warunek ograniczonej izometrii rzędu s z współczynnikiem delta_s(X).\n",
    "\n",
    "    Parametry:\n",
    "    X (np.array): Macierz wejściowa o rozmiarze n x d.\n",
    "    s (int): Rząd warunku ograniczonej izometrii.\n",
    "    \n",
    "    Zwraca:\n",
    "    float: Współczynnik ograniczonej izometrii delta_s(X), jeśli warunek jest spełniony, w przeciwnym razie -1.\n",
    "    \"\"\"\n",
    "    # Inicjalizujemy współczynnik ograniczonej izometrii jako -1 (oznaczając brak spełnienia warunku)\n",
    "    delta_s = -1\n",
    "    \n",
    "    # Liczba kolumn w macierzy X to wymiar d\n",
    "    liczba_wierszy, liczba_kolumn = X.shape\n",
    "    \n",
    "    # Sprawdzamy, czy s znajduje się w prawidłowym zakresie\n",
    "    if s < 1 or s > liczba_kolumn:\n",
    "        raise ValueError(\"Rząd s musi mieścić się w zakresie od 1 do liczby kolumn d w macierzy X.\")\n",
    "    \n",
    "    # Generujemy wszystkie podzbiory S o rozmiarze co najwyżej s\n",
    "    wszystkie_podzbiory = [np.array(comb) for k in range(1, s+1) for comb in combinations(range(liczba_kolumn), k)]\n",
    "    \n",
    "    # Obliczamy współczynnik ograniczonej izometrii dla wszystkich podzbiorów S o rozmiarze co najwyżej s\n",
    "    for podzbior in wszystkie_podzbiory:\n",
    "        # Wyodrębniamy podmacierz X_S odpowiadającą kolumnom z podzbioru S\n",
    "        X_S = X[:, podzbior]\n",
    "        # Obliczamy iloczyn macierzy X_S^T X_S i normalizujemy przez n\n",
    "        iloczyn = X_S.T @ X_S / liczba_wierszy\n",
    "        # Obliczamy maksymalna_wartosc_wlasna\n",
    "        maksymalna_wartosc_wlasna = np.linalg.norm(iloczyn - np.eye(len(podzbior)), ord=2)\n",
    "        \n",
    "        # Aktualizujemy współczynnik ograniczonej izometrii, jeśli wartość jest większa\n",
    "        delta_s = max(delta_s, maksymalna_wartosc_wlasna)\n",
    "    \n",
    "    return delta_s"
   ]
  },
  {
   "cell_type": "markdown",
   "metadata": {},
   "source": [
    "-   Jeśli $\\delta_s(X)$ jest małe (np.  $\\ll 1$), to każda podmacierz o wymiarze s zachowuje się prawie jak macierz ortogonalna.\n",
    "-   Jeśli $\\delta_s(X)$ jest duże (np. $>1$), to istnieją podzbiory kolumn macierzy X, które są silnie skorelowane, co powoduje problemy numeryczne."
   ]
  },
  {
   "cell_type": "code",
   "execution_count": 11,
   "metadata": {},
   "outputs": [],
   "source": [
    "delta_s_2 = parametr_ograniczonej_izometrii(macierz_X_zestandaryzowana, s=2)"
   ]
  },
  {
   "cell_type": "code",
   "execution_count": 12,
   "metadata": {},
   "outputs": [
    {
     "data": {
      "text/plain": [
       "np.float64(0.7845152273813982)"
      ]
     },
     "execution_count": 12,
     "metadata": {},
     "output_type": "execute_result"
    }
   ],
   "source": [
    "delta_s_2"
   ]
  },
  {
   "cell_type": "code",
   "execution_count": 13,
   "metadata": {},
   "outputs": [
    {
     "data": {
      "text/plain": [
       "np.float64(0.784515227381398)"
      ]
     },
     "execution_count": 13,
     "metadata": {},
     "output_type": "execute_result"
    }
   ],
   "source": [
    "delta_pw = parametr_niespojnosci_parami(macierz_X_zestandaryzowana)\n",
    "delta_pw"
   ]
  },
  {
   "cell_type": "markdown",
   "metadata": {},
   "source": [
    "### jak widać dla s=2 wielkości $\\delta_s(X)$ oraz $\\delta_pw(X)$ są takie same."
   ]
  },
  {
   "cell_type": "code",
   "execution_count": 17,
   "metadata": {},
   "outputs": [],
   "source": [
    "delta_s_1 = parametr_ograniczonej_izometrii(macierz_X_zestandaryzowana, s=1)"
   ]
  },
  {
   "cell_type": "code",
   "execution_count": 18,
   "metadata": {},
   "outputs": [
    {
     "data": {
      "text/plain": [
       "np.float64(2.220446049250313e-16)"
      ]
     },
     "execution_count": 18,
     "metadata": {},
     "output_type": "execute_result"
    }
   ],
   "source": [
    "delta_s_1"
   ]
  },
  {
   "cell_type": "markdown",
   "metadata": {},
   "source": [
    "### Dla $s=1$ mamy $\\delta_s(X)=0$ co pokazuje, ze norma druga kolumn nalezy do przedziału $(1-\\delta_1(X), 1+\\delta_1(X))$."
   ]
  },
  {
   "cell_type": "code",
   "execution_count": 19,
   "metadata": {},
   "outputs": [
    {
     "name": "stdout",
     "output_type": "stream",
     "text": [
      "[[ 1.31371992e+00  9.17417301e-01 -9.74177601e-01 -1.56053852e+00\n",
      "   1.30767746e-01 -5.54852247e-02]\n",
      " [-1.44675021e+00 -1.53318123e+00 -5.68551738e-04 -1.05736437e-01\n",
      "  -2.70036048e-01 -1.57969065e+00]\n",
      " [-2.26917372e-01  8.63812803e-01  1.62225471e+00  1.12062940e+00\n",
      "   1.46610873e+00  5.30709237e-01]\n",
      " [ 3.59947659e-01 -2.48048870e-01 -6.47508558e-01  5.45645560e-01\n",
      "  -1.32684043e+00  1.10446664e+00]]\n"
     ]
    }
   ],
   "source": [
    "print(macierz_X_zestandaryzowana)"
   ]
  },
  {
   "cell_type": "code",
   "execution_count": 20,
   "metadata": {},
   "outputs": [],
   "source": [
    "delta_s_3 = parametr_ograniczonej_izometrii(macierz_X_zestandaryzowana, s=3)"
   ]
  },
  {
   "cell_type": "code",
   "execution_count": 21,
   "metadata": {},
   "outputs": [
    {
     "data": {
      "text/plain": [
       "np.float64(1.366594279563812)"
      ]
     },
     "execution_count": 21,
     "metadata": {},
     "output_type": "execute_result"
    }
   ],
   "source": [
    "delta_s_3"
   ]
  },
  {
   "cell_type": "code",
   "execution_count": 22,
   "metadata": {},
   "outputs": [],
   "source": [
    "def znajdz_najgorszy_podzior(X, s):\n",
    "    \"\"\"\n",
    "    Znajduje podzbiór kolumn macierzy X o wymiarze co najwyżej s, dla którego \n",
    "    współczynnik ograniczonej izometrii (delta_s) jest największy.\n",
    "\n",
    "    Parametry:\n",
    "    X (np.array): Macierz wejściowa o rozmiarze (n, d).\n",
    "    s (int): Maksymalna liczba kolumn w podzbiorze.\n",
    "\n",
    "    Zwraca:\n",
    "    tuple: (Najbardziej problematyczne kolumny, Największa wartość delta_s)\n",
    "    \"\"\"\n",
    "    n, d = X.shape\n",
    "    \n",
    "    if s < 1 or s > d:\n",
    "        raise ValueError(\"s musi mieścić się w zakresie od 1 do liczby kolumn d w macierzy X.\")\n",
    "\n",
    "    # Generowanie wszystkich podzbiorów S o rozmiarze dokładnie s\n",
    "    wszystkie_podzbiory = [np.array(comb) for comb in combinations(range(d), s)]\n",
    "    \n",
    "    najgorszy_podzior = None\n",
    "    najgorsza_wartosc = -1\n",
    "\n",
    "    # Iterujemy przez wszystkie podzbiory i znajdujemy największą wartość\n",
    "    for podzbior in wszystkie_podzbiory:\n",
    "        X_S = X[:, podzbior]\n",
    "        iloczyn = X_S.T @ X_S / n  # Normalizowany iloczyn wewnętrzny kolumn\n",
    "        maksymalna_wartosc_wlasna = np.linalg.norm(iloczyn - np.eye(len(podzbior)), ord=2)\n",
    "        \n",
    "        if maksymalna_wartosc_wlasna > najgorsza_wartosc:\n",
    "            najgorsza_wartosc = maksymalna_wartosc_wlasna\n",
    "            najgorszy_podzior = podzbior\n",
    "\n",
    "    return najgorszy_podzior, najgorsza_wartosc"
   ]
  },
  {
   "cell_type": "code",
   "execution_count": 23,
   "metadata": {},
   "outputs": [
    {
     "name": "stdout",
     "output_type": "stream",
     "text": [
      "Najbardziej problematyczne kolumny: [0 1 5]\n",
      "Największa wartość dla tego podzbioru: 1.366594279563812\n"
     ]
    }
   ],
   "source": [
    "najgorszy_podzior, najgorsza_wartosc = znajdz_najgorszy_podzior(macierz_X_zestandaryzowana, s=3)\n",
    "print(\"Najbardziej problematyczne kolumny:\", najgorszy_podzior)\n",
    "print(\"Największa wartość dla tego podzbioru:\", najgorsza_wartosc)"
   ]
  },
  {
   "cell_type": "code",
   "execution_count": 24,
   "metadata": {},
   "outputs": [],
   "source": [
    "delta_s_4 = parametr_ograniczonej_izometrii(macierz_X_zestandaryzowana, s=4)"
   ]
  },
  {
   "cell_type": "code",
   "execution_count": 25,
   "metadata": {},
   "outputs": [
    {
     "data": {
      "text/plain": [
       "np.float64(1.437379043046473)"
      ]
     },
     "execution_count": 25,
     "metadata": {},
     "output_type": "execute_result"
    }
   ],
   "source": [
    "delta_s_4"
   ]
  },
  {
   "cell_type": "code",
   "execution_count": 26,
   "metadata": {},
   "outputs": [
    {
     "name": "stdout",
     "output_type": "stream",
     "text": [
      "Najbardziej problematyczne kolumny: [0 2 3 4]\n",
      "Największa wartość dla tego podzbioru: 1.437379043046473\n"
     ]
    }
   ],
   "source": [
    "najgorszy_podzior, najgorsza_wartosc = znajdz_najgorszy_podzior(macierz_X_zestandaryzowana, s=4)\n",
    "print(\"Najbardziej problematyczne kolumny:\", najgorszy_podzior)\n",
    "print(\"Największa wartość dla tego podzbioru:\", najgorsza_wartosc)"
   ]
  },
  {
   "cell_type": "code",
   "execution_count": 27,
   "metadata": {},
   "outputs": [],
   "source": [
    "X = np.array([\n",
    "    [1, 0, 1, 2, 1, 3, 0, 2, 3, 4, 0, 2, 1, 3, 4, 2, 0, 1, 4, 3],\n",
    "    [0, 1, 2, 1, 3, 0, 2, 3, 4, 1, 2, 0, 3, 1, 2, 4, 3, 0, 1, 2],\n",
    "    [2, 3, 1, 0, 4, 1, 3, 2, 0, 1, 4, 3, 2, 1, 0, 4, 2, 3, 1, 0],\n",
    "    [3, 4, 0, 2, 1, 2, 3, 4, 1, 0, 3, 2, 4, 1, 3, 0, 2, 1, 4, 3],\n",
    "    [4, 1, 3, 2, 0, 1, 4, 3, 2, 0, 1, 2, 3, 4, 0, 1, 3, 2, 4, 0],\n",
    "    [1, 2, 3, 0, 4, 2, 1, 3, 0, 4, 3, 1, 2, 4, 0, 1, 3, 4, 2, 0],\n",
    "    [3, 0, 1, 2, 4, 1, 2, 3, 0, 4, 1, 2, 0, 3, 4, 2, 1, 3, 4, 0],\n",
    "    [2, 4, 0, 3, 1, 2, 1, 4, 3, 0, 2, 1, 3, 4, 0, 1, 3, 2, 4, 0],\n",
    "    [4, 3, 2, 1, 0, 4, 3, 2, 1, 0, 4, 3, 2, 0, 1, 3, 4, 0, 2, 1],\n",
    "    [1, 3, 4, 0, 2, 1, 2, 3, 4, 0, 1, 3, 2, 4, 0, 1, 3, 4, 2, 0],\n",
    "    [2, 0, 3, 1, 4, 2, 1, 3, 4, 0, 2, 1, 4, 3, 0, 2, 1, 3, 4, 0],\n",
    "    [3, 2, 4, 1, 0, 3, 2, 1, 4, 0, 3, 1, 4, 2, 0, 3, 1, 4, 2, 0],\n",
    "    [0, 4, 2, 1, 3, 0, 4, 2, 1, 3, 0, 4, 1, 3, 2, 0, 4, 3, 2, 1],\n",
    "    [1, 3, 0, 4, 2, 1, 3, 0, 4, 2, 1, 3, 4, 0, 2, 1, 3, 4, 2, 0],\n",
    "    [2, 0, 4, 1, 3, 2, 0, 4, 1, 3, 2, 0, 3, 4, 1, 2, 0, 4, 1, 3]\n",
    "])\n",
    "\n",
    "# Normalizacja kolumn (standaryzacja)\n",
    "X = (X - np.mean(X, axis=0)) / np.std(X, axis=0)"
   ]
  },
  {
   "cell_type": "code",
   "execution_count": 28,
   "metadata": {},
   "outputs": [
    {
     "data": {
      "text/plain": [
       "np.float64(1.2686977996038404)"
      ]
     },
     "execution_count": 28,
     "metadata": {},
     "output_type": "execute_result"
    }
   ],
   "source": [
    "delta_s_3 = parametr_ograniczonej_izometrii(X, s=3)\n",
    "delta_s_3"
   ]
  },
  {
   "cell_type": "code",
   "execution_count": 29,
   "metadata": {},
   "outputs": [],
   "source": [
    "n, d = 8,9  # n < d\n",
    "X = np.random.randn(n, d)  # Macierz losowa o niezależnych kolumnach\n",
    "#standaryzujemy kolumny\n",
    "X = (X - np.mean(X, axis=0)) / np.std(X, axis=0)"
   ]
  },
  {
   "cell_type": "code",
   "execution_count": 30,
   "metadata": {},
   "outputs": [
    {
     "data": {
      "text/plain": [
       "np.float64(1.106779919611106)"
      ]
     },
     "execution_count": 30,
     "metadata": {},
     "output_type": "execute_result"
    }
   ],
   "source": [
    "delta_s_3 = parametr_ograniczonej_izometrii(X, s=3)\n",
    "delta_s_3"
   ]
  }
 ],
 "metadata": {
  "kernelspec": {
   "display_name": "VIRT_ENV",
   "language": "python",
   "name": "python3"
  },
  "language_info": {
   "codemirror_mode": {
    "name": "ipython",
    "version": 3
   },
   "file_extension": ".py",
   "mimetype": "text/x-python",
   "name": "python",
   "nbconvert_exporter": "python",
   "pygments_lexer": "ipython3",
   "version": "3.13.1"
  }
 },
 "nbformat": 4,
 "nbformat_minor": 2
}

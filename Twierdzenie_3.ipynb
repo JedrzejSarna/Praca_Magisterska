{
 "cells": [
  {
   "cell_type": "code",
   "execution_count": 1,
   "metadata": {},
   "outputs": [],
   "source": [
    "import numpy as np\n",
    "import itertools\n"
   ]
  },
  {
   "cell_type": "code",
   "execution_count": 2,
   "metadata": {},
   "outputs": [],
   "source": [
    "def wlasnosc_ograniczonej_przestrzeni_dla_podzbiorow(X, s):\n",
    "    \"\"\"\n",
    "    Sprawdza, czy macierz X spełnia własność ograniczonej przestrzeni zerowej\n",
    "    dla każdego podzbioru S o mocy co najwyżej s.\n",
    "\n",
    "    Argumenty:\n",
    "    - X: macierz o wymiarach (n, d)\n",
    "    - s: maksymalna moc podzbioru S\n",
    "\n",
    "    Działanie:\n",
    "    - Printuje dla każdego podzbioru S, czy macierz X spełnia własność ograniczonej przestrzeni.\n",
    "    \"\"\"\n",
    "    n, d = X.shape\n",
    "    wszystkie_kolumny = np.arange(d)  # Indeksy kolumn\n",
    "\n",
    "    # Funkcja do sprawdzania warunku zdefiniowanego dla zbioru C(S)\n",
    "    def czy_nalezy_do_C_S(delta, S, S_c):\n",
    "        delta_S = delta[S]  # Współrzędne odpowiadające S\n",
    "        delta_S_c = delta[S_c]  # Współrzędne odpowiadające S^c\n",
    "        return np.linalg.norm(delta_S_c, 1) <= np.linalg.norm(delta_S, 1)\n",
    "\n",
    "    # Szukanie niezerowych wektorów w jądrze macierzy X\n",
    "    _, _, VT = np.linalg.svd(X, full_matrices=False)\n",
    "    jadro_X = VT.T[:, n:]  # Wektory jądra macierzy X (d - n wymiarów)\n",
    "\n",
    "    # Sprawdzenie dla każdego podzbioru S o mocy co najwyżej s\n",
    "    for rozmiar in range(1, s + 1):\n",
    "        for S in itertools.combinations(wszystkie_kolumny, rozmiar):\n",
    "            S = np.array(S)\n",
    "            S_c = np.setdiff1d(wszystkie_kolumny, S)  # Komplement zbioru S\n",
    "            spelnia = True\n",
    "            for delta in jadro_X.T:\n",
    "                if not np.allclose(delta, 0) and czy_nalezy_do_C_S(delta, S, S_c):\n",
    "                    spelnia = False\n",
    "                    break\n",
    "            print(f\"Podzbiór S: {S}, Spełnia: {spelnia}\")\n"
   ]
  },
  {
   "cell_type": "code",
   "execution_count": 3,
   "metadata": {},
   "outputs": [],
   "source": [
    "def parametr_niespojnosci_parami(X):\n",
    "    liczba_wierszy, liczba_kolumn = X.shape  # X to macierz o wymiarach (n, d): n wierszy i d kolumn\n",
    "    maksymalna_wartosc = float('-inf')\n",
    "    for kolumna_j in range(liczba_kolumn):\n",
    "        for kolumna_k in range(liczba_kolumn):\n",
    "            # Obliczamy iloczyn skalarny kolumn j i k\n",
    "            iloczyn_skalarny = abs(np.dot(X[:, kolumna_j], X[:, kolumna_k])) / liczba_wierszy\n",
    "            if kolumna_j == kolumna_k:\n",
    "                iloczyn_skalarny -= 1  # Odejmujemy 1, jeśli porównujemy ten sam wektor ze sobą\n",
    "            \n",
    "            # Aktualizujemy maksymalną wartość o wartość bezwzględną bieżącego obliczenia\n",
    "            maksymalna_wartosc = max(maksymalna_wartosc, abs(iloczyn_skalarny))\n",
    "    return maksymalna_wartosc"
   ]
  },
  {
   "cell_type": "code",
   "execution_count": 4,
   "metadata": {},
   "outputs": [
    {
     "name": "stdout",
     "output_type": "stream",
     "text": [
      "Macierz X: [[0.19756521 0.37231716 0.42186394 0.0806728  0.01630351 0.68862539]\n",
      " [0.94231326 0.82439536 0.70297355 0.13938733 0.43671085 0.79020366]\n",
      " [0.39534747 0.25876544 0.34839068 0.3011056  0.99146217 0.18298142]\n",
      " [0.24310748 0.48168904 0.23199446 0.91338536 0.23660644 0.95338769]]\n",
      "Średnia zestandaryzowanych kolumn: [-1.11022302e-16 -1.90819582e-17  5.55111512e-17  1.11022302e-16\n",
      " -5.55111512e-17 -2.22044605e-16]\n",
      "Wariancja zestandaryzowanych kolumn: [1. 1. 1. 1. 1. 1.]\n",
      "Normy L2 kolumn: [2. 2. 2. 2. 2. 2.]\n",
      "Pierwiastek kwadratowy z liczby obserwacji: 2.0\n"
     ]
    }
   ],
   "source": [
    "# Tworzymy losową macierz X (przykład)\n",
    "macierz_X = np.random.rand(4, 6)  # 4 obserwacje, 6 predyktory\n",
    "print(\"Macierz X:\", macierz_X)\n",
    "# Obliczamy średnią dla każdej kolumny\n",
    "srednie_kolumn = np.mean(macierz_X, axis=0)\n",
    "\n",
    "# Obliczamy wariancję dla każdej kolumny (przy użyciu N, a nie N-1)\n",
    "wariancje_kolumn = np.mean((macierz_X - srednie_kolumn)**2, axis=0)\n",
    "\n",
    "# Standaryzujemy kolumny\n",
    "macierz_X_zestandaryzowana = (macierz_X - srednie_kolumn) / np.sqrt(wariancje_kolumn)\n",
    "\n",
    "# Weryfikujemy wyniki\n",
    "srednie_zestandaryzowanych_kolumn = np.mean(macierz_X_zestandaryzowana, axis=0)  # Średnia zestandaryzowanych kolumn\n",
    "wariancje_zestandaryzowanych_kolumn = np.mean(macierz_X_zestandaryzowana**2, axis=0)  # Wariancja zestandaryzowanych kolumn\n",
    "\n",
    "print(\"Średnia zestandaryzowanych kolumn:\", srednie_zestandaryzowanych_kolumn)\n",
    "print(\"Wariancja zestandaryzowanych kolumn:\", wariancje_zestandaryzowanych_kolumn)\n",
    "print(\"Normy L2 kolumn:\", np.linalg.norm(macierz_X_zestandaryzowana, ord=2, axis=0))  # Norma L2 kolumn\n",
    "print(\"Pierwiastek kwadratowy z liczby obserwacji:\", np.sqrt(macierz_X.shape[0]))  # Pierwiastek z liczby obserwacji"
   ]
  },
  {
   "cell_type": "code",
   "execution_count": 5,
   "metadata": {},
   "outputs": [],
   "source": [
    "delta_pw = parametr_niespojnosci_parami(macierz_X_zestandaryzowana)"
   ]
  },
  {
   "cell_type": "code",
   "execution_count": 6,
   "metadata": {},
   "outputs": [
    {
     "data": {
      "text/plain": [
       "np.float64(0.8833587095582189)"
      ]
     },
     "execution_count": 6,
     "metadata": {},
     "output_type": "execute_result"
    }
   ],
   "source": [
    "delta_pw"
   ]
  },
  {
   "cell_type": "code",
   "execution_count": 7,
   "metadata": {},
   "outputs": [
    {
     "data": {
      "text/plain": [
       "0.16666666666666666"
      ]
     },
     "execution_count": 7,
     "metadata": {},
     "output_type": "execute_result"
    }
   ],
   "source": [
    "1/(3*2)"
   ]
  },
  {
   "cell_type": "code",
   "execution_count": 8,
   "metadata": {},
   "outputs": [
    {
     "name": "stdout",
     "output_type": "stream",
     "text": [
      "Podzbiór S: [0], Spełnia: True\n",
      "Podzbiór S: [1], Spełnia: True\n",
      "Podzbiór S: [2], Spełnia: True\n",
      "Podzbiór S: [3], Spełnia: True\n",
      "Podzbiór S: [4], Spełnia: True\n",
      "Podzbiór S: [5], Spełnia: True\n",
      "Podzbiór S: [0 1], Spełnia: True\n",
      "Podzbiór S: [0 2], Spełnia: True\n",
      "Podzbiór S: [0 3], Spełnia: True\n",
      "Podzbiór S: [0 4], Spełnia: True\n",
      "Podzbiór S: [0 5], Spełnia: True\n",
      "Podzbiór S: [1 2], Spełnia: True\n",
      "Podzbiór S: [1 3], Spełnia: True\n",
      "Podzbiór S: [1 4], Spełnia: True\n",
      "Podzbiór S: [1 5], Spełnia: True\n",
      "Podzbiór S: [2 3], Spełnia: True\n",
      "Podzbiór S: [2 4], Spełnia: True\n",
      "Podzbiór S: [2 5], Spełnia: True\n",
      "Podzbiór S: [3 4], Spełnia: True\n",
      "Podzbiór S: [3 5], Spełnia: True\n",
      "Podzbiór S: [4 5], Spełnia: True\n"
     ]
    }
   ],
   "source": [
    "wlasnosc_ograniczonej_przestrzeni_dla_podzbiorow(macierz_X_zestandaryzowana, 2)"
   ]
  },
  {
   "cell_type": "code",
   "execution_count": 9,
   "metadata": {},
   "outputs": [],
   "source": [
    "macierz_X_zla = np.array([\n",
    "    [1, 0, 3, 0, 1],\n",
    "    [0, 1, 3, 1, -1],\n",
    "    [1, 4, 1, 2, -1],\n",
    "    [0, 1, 3, 1, 1]\n",
    "])\n",
    "    "
   ]
  },
  {
   "cell_type": "code",
   "execution_count": 11,
   "metadata": {},
   "outputs": [
    {
     "name": "stdout",
     "output_type": "stream",
     "text": [
      "Średnia zestandaryzowanych kolumn: [0.00000000e+00 4.16333634e-17 2.77555756e-17 0.00000000e+00\n",
      " 0.00000000e+00]\n",
      "Wariancja zestandaryzowanych kolumn: [1. 1. 1. 1. 1.]\n",
      "Normy L2 kolumn: [2. 2. 2. 2. 2.]\n",
      "Pierwiastek kwadratowy z liczby obserwacji: 2.0\n"
     ]
    }
   ],
   "source": [
    "# Obliczamy średnią dla każdej kolumny\n",
    "srednie_kolumn = np.mean(macierz_X_zla, axis=0)\n",
    "\n",
    "# Obliczamy wariancję dla każdej kolumny (przy użyciu N, a nie N-1)\n",
    "wariancje_kolumn = np.mean((macierz_X_zla - srednie_kolumn)**2, axis=0)\n",
    "\n",
    "# Standaryzujemy kolumny\n",
    "macierz_X_zla_zestandaryzowana = (macierz_X_zla - srednie_kolumn) / np.sqrt(wariancje_kolumn)\n",
    "\n",
    "# Weryfikujemy wyniki\n",
    "srednie_zestandaryzowanych_kolumn = np.mean(macierz_X_zla_zestandaryzowana, axis=0)  # Średnia zestandaryzowanych kolumn\n",
    "wariancje_zestandaryzowanych_kolumn = np.mean(macierz_X_zla_zestandaryzowana**2, axis=0)  # Wariancja zestandaryzowanych kolumn\n",
    "\n",
    "print(\"Średnia zestandaryzowanych kolumn:\", srednie_zestandaryzowanych_kolumn)\n",
    "print(\"Wariancja zestandaryzowanych kolumn:\", wariancje_zestandaryzowanych_kolumn)\n",
    "print(\"Normy L2 kolumn:\", np.linalg.norm(macierz_X_zla_zestandaryzowana, ord=2, axis=0))  # Norma L2 kolumn\n",
    "print(\"Pierwiastek kwadratowy z liczby obserwacji:\", np.sqrt(macierz_X_zla.shape[0]))  # "
   ]
  },
  {
   "cell_type": "code",
   "execution_count": 12,
   "metadata": {},
   "outputs": [],
   "source": [
    "delta_pw_zla = parametr_niespojnosci_parami(macierz_X_zla_zestandaryzowana)"
   ]
  },
  {
   "cell_type": "code",
   "execution_count": 13,
   "metadata": {},
   "outputs": [
    {
     "data": {
      "text/plain": [
       "np.float64(0.9622504486493764)"
      ]
     },
     "execution_count": 13,
     "metadata": {},
     "output_type": "execute_result"
    }
   ],
   "source": [
    "delta_pw_zla"
   ]
  }
 ],
 "metadata": {
  "kernelspec": {
   "display_name": "VIRT_ENV",
   "language": "python",
   "name": "python3"
  },
  "language_info": {
   "codemirror_mode": {
    "name": "ipython",
    "version": 3
   },
   "file_extension": ".py",
   "mimetype": "text/x-python",
   "name": "python",
   "nbconvert_exporter": "python",
   "pygments_lexer": "ipython3",
   "version": "3.13.1"
  }
 },
 "nbformat": 4,
 "nbformat_minor": 2
}

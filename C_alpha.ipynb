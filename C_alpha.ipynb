{
 "cells": [
  {
   "cell_type": "code",
   "execution_count": 1,
   "metadata": {},
   "outputs": [],
   "source": [
    "import numpy as np\n",
    "\n",
    "def warunek_ograniczonych_wartosci_wlasnych(X, S, kappa, alpha):\n",
    "    \"\"\"\n",
    "    Sprawdza, czy macierz X spełnia warunek ograniczonych wartości własnych dla zbioru S\n",
    "    z parametrami (kappa, alpha).\n",
    "\n",
    "    Parametry:\n",
    "    X: ndarray o rozmiarach (n, p)\n",
    "        Macierz danych.\n",
    "    S: zbiór indeksów.\n",
    "    kappa: float\n",
    "        Parametr kappa.\n",
    "    alpha: float\n",
    "        Parametr alpha.\n",
    "\n",
    "    Zwraca:\n",
    "    bool\n",
    "        True, jeśli warunek jest spełniony, False w przeciwnym razie.\n",
    "    \"\"\"\n",
    "    n, p = X.shape\n",
    "\n",
    "    # Funkcja pomocnicza, aby sprawdzić czy wektor Delta należy do C_alpha(S)\n",
    "    def nalezy_do_C_alpha(Delta, S, alpha):\n",
    "        Delta_S = np.array([Delta[j] for j in S])\n",
    "        Delta_Sc = np.array([Delta[j] for j in range(p) if j not in S])\n",
    "        return np.linalg.norm(Delta_Sc, 1) <= alpha * np.linalg.norm(Delta_S, 1)\n",
    "\n",
    "    # Sprawdzanie warunku dla losowych wektorów Delta\n",
    "    for _ in range(10):  # losowe próbki, można dostosować liczbę próbek\n",
    "        Delta = np.random.randn(p)  # losowy wektor Delta\n",
    "        if nalezy_do_C_alpha(Delta, S, alpha):\n",
    "            if (1 / n) * np.linalg.norm(X @ Delta, 2)**2 < kappa * np.linalg.norm(Delta, 2)**2:\n",
    "                return False\n",
    "    return True\n",
    "\n",
    "\n",
    "\n",
    "\n",
    "def oblicz_wartosci_wlasne_XTX(X):\n",
    "    \"\"\"\n",
    "    Oblicza wartości własne macierzy X^T X.\n",
    "\n",
    "    Parametry:\n",
    "    X: ndarray o rozmiarach (n, p)\n",
    "        Macierz danych.\n",
    "\n",
    "    Zwraca:\n",
    "    ndarray\n",
    "        Wartości własne macierzy X^T X.\n",
    "    \"\"\"\n",
    "    XTX = np.dot(X.T, X)  # Obliczanie X^T X\n",
    "    wartosci_wlasne = np.linalg.eigvals(XTX)  # Obliczanie wartości własnych macierzy X^T X\n",
    "    return wartosci_wlasne\n"
   ]
  },
  {
   "cell_type": "markdown",
   "metadata": {},
   "source": [
    "dla wiekszych $\\alpha$ zbior jest wiekszy "
   ]
  },
  {
   "cell_type": "code",
   "execution_count": 2,
   "metadata": {},
   "outputs": [
    {
     "name": "stdout",
     "output_type": "stream",
     "text": [
      "(-1.3081181524464054e-19+0j) (0.0005490162456926828+0j)\n",
      "Czy macierz X spełnia warunek ograniczonych wartości własnych? True\n"
     ]
    }
   ],
   "source": [
    "\n",
    "# Przykładowe użycie, które zwróci False:\n",
    "np.random.seed(0)  # Ustawienie ziarna losowego dla powtarzalności wyników\n",
    "X = np.random.randn(100, 200) * 0.001  # Macierz danych o bardzo niskiej wartości normy (n=100, p=200)\n",
    "S = {i for i in range(10)}  # Przykładowy zbiór indeksów\n",
    "kappa = 100.0  # Bardzo wysoka wartość parametru kappa\n",
    "alpha = 0.1  # Przykładowa wartość parametru alpha\n",
    "\n",
    "# Obliczanie wartości własnych macierzy X^T X\n",
    "wartosci_wlasne_XTX = oblicz_wartosci_wlasne_XTX(X)\n",
    "print(np.min(wartosci_wlasne_XTX), np.max(wartosci_wlasne_XTX))\n",
    "\n",
    "wynik = warunek_ograniczonych_wartosci_wlasnych(X, S, kappa, alpha)\n",
    "print(f\"Czy macierz X spełnia warunek ograniczonych wartości własnych? {wynik}\")"
   ]
  },
  {
   "cell_type": "code",
   "execution_count": 3,
   "metadata": {},
   "outputs": [
    {
     "name": "stdout",
     "output_type": "stream",
     "text": [
      "0.0 1.0\n",
      "Czy macierz X spełnia warunek ograniczonych wartości własnych? True\n"
     ]
    }
   ],
   "source": [
    "\n",
    "# Stwórzmy specjalnie macierz X, która będzie miała bardzo małe wartości własne\n",
    "X = np.eye(10, 6000) # Macierz jednostkowa o bardzo niskiej wartości (n=100, p=200)\n",
    "S = {i for i in range(30)}  # Przykładowy zbiór indeksów\n",
    "kappa = 10.0  # Bardzo wysoka wartość parametru kappa\n",
    "alpha = 0.1  # Przykładowa wartość parametru alpha\n",
    "\n",
    "wartosci_wlasne_XTX = oblicz_wartosci_wlasne_XTX(X)\n",
    "print(np.min(wartosci_wlasne_XTX), np.max(wartosci_wlasne_XTX))\n",
    "\n",
    "wynik = warunek_ograniczonych_wartosci_wlasnych(X, S, kappa, alpha)\n",
    "print(f\"Czy macierz X spełnia warunek ograniczonych wartości własnych? {wynik}\")"
   ]
  },
  {
   "cell_type": "code",
   "execution_count": 4,
   "metadata": {},
   "outputs": [
    {
     "name": "stdout",
     "output_type": "stream",
     "text": [
      "(-4.197740078707597e-13+0j) (2437.3407235483733+0j)\n",
      "Czy macierz X spełnia warunek ograniczonych wartości własnych? True\n"
     ]
    }
   ],
   "source": [
    "X = np.random.randn(10, 2199)\n",
    "X = np.hstack((X, X[:, [0]]))  # Dodanie kolumny liniowo zależnej od pierwszej kolumny\n",
    "\n",
    "wartosci_wlasne_XTX = oblicz_wartosci_wlasne_XTX(X)\n",
    "print(np.min(wartosci_wlasne_XTX), np.max(wartosci_wlasne_XTX))\n",
    "\n",
    "S = {i for i in range(10)}  # Przykładowy zbiór indeksów\n",
    "kappa = 0.5  # Ustawienie mniejszej wartości parametru kappa\n",
    "alpha = 0.1  # Przykładowa wartość parametru alpha\n",
    "\n",
    "wynik = warunek_ograniczonych_wartosci_wlasnych(X, S, kappa, alpha)\n",
    "print(f\"Czy macierz X spełnia warunek ograniczonych wartości własnych? {wynik}\")"
   ]
  },
  {
   "cell_type": "code",
   "execution_count": 5,
   "metadata": {},
   "outputs": [
    {
     "name": "stdout",
     "output_type": "stream",
     "text": [
      "(-1.233798854578908e-18+0j) (0.002929811680012185+0j)\n",
      "Czy macierz X spełnia warunek ograniczonych wartości własnych? True\n"
     ]
    }
   ],
   "source": [
    "# Przykładowe użycie, które zwróci False:\n",
    "np.random.seed(0)  # Ustawienie ziarna losowego dla powtarzalności wyników\n",
    "X = np.random.randn(100, 2000) * 0.001  # Macierz danych o bardzo niskiej wartości normy (n=100, p=200)\n",
    "S = {i for i in range(10)}  # Przykładowy zbiór indeksów\n",
    "kappa = 0.000000001  # Bardzo wysoka wartość parametru kappa\n",
    "alpha = 3  # Przykładowa wartość parametru alpha\n",
    "\n",
    "# Obliczanie wartości własnych macierzy X^T X\n",
    "wartosci_wlasne_XTX = oblicz_wartosci_wlasne_XTX(X)\n",
    "print(np.min(wartosci_wlasne_XTX), np.max(wartosci_wlasne_XTX))\n",
    "\n",
    "wynik = warunek_ograniczonych_wartosci_wlasnych(X, S, kappa, alpha)\n",
    "print(f\"Czy macierz X spełnia warunek ograniczonych wartości własnych? {wynik}\")"
   ]
  },
  {
   "cell_type": "markdown",
   "metadata": {},
   "source": [
    "## Sprawdzic fragment"
   ]
  },
  {
   "cell_type": "markdown",
   "metadata": {},
   "source": []
  }
 ],
 "metadata": {
  "kernelspec": {
   "display_name": "VIRT_ENV",
   "language": "python",
   "name": "python3"
  },
  "language_info": {
   "codemirror_mode": {
    "name": "ipython",
    "version": 3
   },
   "file_extension": ".py",
   "mimetype": "text/x-python",
   "name": "python",
   "nbconvert_exporter": "python",
   "pygments_lexer": "ipython3",
   "version": "3.13.1"
  }
 },
 "nbformat": 4,
 "nbformat_minor": 2
}
